{
  "cells": [
    {
      "cell_type": "markdown",
      "metadata": {
        "id": "v7uQ2Lqo7jsn"
      },
      "source": [
        "## List"
      ]
    },
    {
      "cell_type": "markdown",
      "metadata": {
        "id": "BLZg58sE5mjT"
      },
      "source": [
        "Exercise 1: Reverse a list in Python"
      ]
    },
    {
      "cell_type": "code",
      "execution_count": null,
      "metadata": {
        "id": "o_o7iFqL5eAu"
      },
      "outputs": [],
      "source": [
        "list1 = [10, 20, 30, 40, 50]\n"
      ]
    },
    {
      "cell_type": "code",
      "execution_count": null,
      "metadata": {
        "colab": {
          "base_uri": "https://localhost:8080/"
        },
        "id": "v_WalICb5tO1",
        "outputId": "ff6453d8-793b-42bb-9ce8-ec31d31673fe"
      },
      "outputs": [
        {
          "name": "stdout",
          "output_type": "stream",
          "text": [
            "Reversing the list:  [50, 40, 30, 20, 10]\n"
          ]
        }
      ],
      "source": [
        "list1 = [10, 20, 30, 40, 50]\n",
        "list1.reverse()\n",
        "print(\"Reversing the list: \", list1)"
      ]
    },
    {
      "cell_type": "markdown",
      "metadata": {
        "id": "I962Qtgf5tzB"
      },
      "source": [
        "Exercise 2: Concatenate two lists index-wise\n",
        "Write a program to add two lists index-wise. Create a new list that contains the 0th index item from both the list, then the 1st index item, and so on till the last element. any leftover items will get added at the end of the new list."
      ]
    },
    {
      "cell_type": "code",
      "execution_count": null,
      "metadata": {
        "id": "uULiDGvU5yti"
      },
      "outputs": [],
      "source": [
        "list1 = [\"M\", \"na\", \"i\", \"Ke\"]\n",
        "list2 = [\"y\", \"me\", \"s\", \"lly\"]"
      ]
    },
    {
      "cell_type": "code",
      "execution_count": null,
      "metadata": {
        "colab": {
          "base_uri": "https://localhost:8080/"
        },
        "id": "NR_oGjhw53Cp",
        "outputId": "39afe55f-ff47-4889-906e-b3188eea0328"
      },
      "outputs": [
        {
          "name": "stdout",
          "output_type": "stream",
          "text": [
            "['My', 'name', 'is', 'Kelly']\n"
          ]
        }
      ],
      "source": [
        "list1 = [\"M\", \"na\", \"i\", \"Ke\"]\n",
        "list2 = [\"y\", \"me\", \"s\", \"lly\"]\n",
        "new_lst = [i + j for i, j in zip(list1,list2)] \n",
        "print(new_lst)"
      ]
    },
    {
      "cell_type": "markdown",
      "metadata": {
        "id": "QNs4kIzQ53mc"
      },
      "source": [
        "Exercise 3: Turn every item of a list into its square\n",
        "Given a list of numbers. write a program to turn every item of a list into its square."
      ]
    },
    {
      "cell_type": "code",
      "execution_count": null,
      "metadata": {
        "id": "O9LT8zNl565j"
      },
      "outputs": [],
      "source": [
        "numbers = [1, 2, 3, 4, 5, 6, 7]"
      ]
    },
    {
      "cell_type": "code",
      "execution_count": null,
      "metadata": {
        "colab": {
          "base_uri": "https://localhost:8080/"
        },
        "id": "tk5cIKT_5-A1",
        "outputId": "3ae0d2cb-37bd-4d1b-f8b7-47039ce67447"
      },
      "outputs": [
        {
          "name": "stdout",
          "output_type": "stream",
          "text": [
            "printing the square of the list:  [1, 4, 9, 16, 25, 36, 49]\n"
          ]
        }
      ],
      "source": [
        "numbers = [1, 2, 3, 4, 5, 6, 7]\n",
        "def square(num):\n",
        "  x= [i**2 for i in numbers]\n",
        "  return x\n",
        "print(\"printing the square of the list: \", square(numbers))"
      ]
    },
    {
      "cell_type": "markdown",
      "metadata": {
        "id": "piqOoesN5-iK"
      },
      "source": [
        "Exercise 4: Concatenate two lists in the following order\n",
        "\n",
        "---\n",
        "\n"
      ]
    },
    {
      "cell_type": "code",
      "execution_count": null,
      "metadata": {
        "id": "wUG6-nIJ6BHb"
      },
      "outputs": [],
      "source": [
        "list1 = [\"Hello \", \"take \"]\n",
        "list2 = [\"Dear\", \"Sir\"]"
      ]
    },
    {
      "cell_type": "code",
      "execution_count": null,
      "metadata": {
        "colab": {
          "base_uri": "https://localhost:8080/"
        },
        "id": "zeEHfQzx6FCr",
        "outputId": "b1188f0f-a68c-40f3-eab2-a7eb7bf43eb3"
      },
      "outputs": [
        {
          "name": "stdout",
          "output_type": "stream",
          "text": [
            "['Hello Dear', 'Hello Sir', 'take Dear', 'take Sir']\n"
          ]
        }
      ],
      "source": [
        "from typing_extensions import Concatenate\n",
        "list1 = [\"Hello \", \"take \"]\n",
        "list2 = [\"Dear\", \"Sir\"]\n",
        "Concat_list = [i+j for i in list1 for j in list2]\n",
        "print(Concat_list)"
      ]
    },
    {
      "cell_type": "markdown",
      "metadata": {
        "id": "i8X2NtAc6FXs"
      },
      "source": [
        "Exercise 5: Iterate both lists simultaneously\n",
        "\n",
        "\n",
        "\n",
        "Given a two Python list. Write a program to iterate both lists simultaneously and display items from list1 in original order and items from list2 in reverse order."
      ]
    },
    {
      "cell_type": "code",
      "execution_count": null,
      "metadata": {
        "id": "CHxllQF86Kxi"
      },
      "outputs": [],
      "source": [
        "list1 = [10, 20, 30, 40]\n",
        "list2 = [100, 200, 300, 400]"
      ]
    },
    {
      "cell_type": "code",
      "execution_count": null,
      "metadata": {
        "colab": {
          "base_uri": "https://localhost:8080/"
        },
        "id": "xLy06Ykw6NOP",
        "outputId": "f0b30a37-5b0a-48e2-df74-f01583bcfa01"
      },
      "outputs": [
        {
          "output_type": "stream",
          "name": "stdout",
          "text": [
            "10 400\n",
            "20 300\n",
            "30 200\n",
            "40 100\n"
          ]
        }
      ],
      "source": [
        "list1 = [10, 20, 30, 40]\n",
        "list2 = [100, 200, 300, 400]\n",
        "for x, y in zip(list1, list2[::-1]):\n",
        "    print(x, y)\n",
        "  \n",
        "\n"
      ]
    },
    {
      "cell_type": "markdown",
      "metadata": {
        "id": "oc1HxYrh6Nvd"
      },
      "source": [
        "Exercise 6: Remove empty strings from the list of strings"
      ]
    },
    {
      "cell_type": "code",
      "execution_count": null,
      "metadata": {
        "id": "rs2Z6fHb6Qli"
      },
      "outputs": [],
      "source": [
        "list1 = [\"Mike\", \"\", \"Emma\", \"Kelly\", \"\", \"Brad\"]"
      ]
    },
    {
      "cell_type": "code",
      "execution_count": null,
      "metadata": {
        "id": "CKofjdZ36T5k",
        "colab": {
          "base_uri": "https://localhost:8080/"
        },
        "outputId": "63c3fa14-10dd-415c-a36f-8c1fa392c378"
      },
      "outputs": [
        {
          "output_type": "stream",
          "name": "stdout",
          "text": [
            "['Mike', 'Emma', 'Kelly', 'Brad']\n"
          ]
        }
      ],
      "source": [
        "res = list(filter(None, list1))\n",
        "print(res)"
      ]
    },
    {
      "cell_type": "markdown",
      "metadata": {
        "id": "osC6zJ316Ufd"
      },
      "source": [
        "Exercise 7: Add new item to list after a specified item\n",
        "Write a program to add item 7000 after 6000 in the following Python List"
      ]
    },
    {
      "cell_type": "code",
      "execution_count": null,
      "metadata": {
        "id": "6-POQm8U6Xr4"
      },
      "outputs": [],
      "source": [
        "list1 = [10, 20, [300, 400, [5000, 6000], 500], 30, 40]"
      ]
    },
    {
      "cell_type": "code",
      "execution_count": null,
      "metadata": {
        "id": "doZosOCW6aqk",
        "colab": {
          "base_uri": "https://localhost:8080/"
        },
        "outputId": "2c10e2f9-4c35-408b-f84b-b61a216a68c9"
      },
      "outputs": [
        {
          "output_type": "execute_result",
          "data": {
            "text/plain": [
              "[10, 20, [300, 400, [5000, 6000, 7000], 500], 30, 40]"
            ]
          },
          "metadata": {},
          "execution_count": 37
        }
      ],
      "source": [
        "list1[2][2].append(7000)\n",
        "list1"
      ]
    },
    {
      "cell_type": "code",
      "execution_count": null,
      "metadata": {
        "id": "aEDZlDRE6jZz"
      },
      "outputs": [],
      "source": [
        ""
      ]
    },
    {
      "cell_type": "markdown",
      "metadata": {
        "id": "l_K3AUq36kOz"
      },
      "source": [
        "## Dictionary"
      ]
    },
    {
      "cell_type": "markdown",
      "metadata": {
        "id": "NzLCo3ZX6h3S"
      },
      "source": [
        "Exercise 1: Convert two lists into a dictionary\n",
        "Below are the two lists. Write a Python program to convert them into a dictionary in a way that item from list1 is the key and item from list2 is the value"
      ]
    },
    {
      "cell_type": "code",
      "execution_count": null,
      "metadata": {
        "id": "oD_dfuQQ6hTl"
      },
      "outputs": [],
      "source": [
        "keys = ['Ten', 'Twenty', 'Thirty']\n",
        "values = [10, 20, 30]"
      ]
    },
    {
      "cell_type": "code",
      "execution_count": null,
      "metadata": {
        "id": "vVGsSyX-6otP",
        "colab": {
          "base_uri": "https://localhost:8080/"
        },
        "outputId": "6cde8c86-18d7-4242-9033-1d0f69524617"
      },
      "outputs": [
        {
          "output_type": "execute_result",
          "data": {
            "text/plain": [
              "{'Ten': 10, 'Thirty': 30, 'Twenty': 20}"
            ]
          },
          "metadata": {},
          "execution_count": 2
        }
      ],
      "source": [
        "res = dict(zip(keys,values))\n",
        "res"
      ]
    },
    {
      "cell_type": "markdown",
      "metadata": {
        "id": "dhA9q9_a6pQh"
      },
      "source": [
        "Exercise 2: Merge two Python dictionaries into one"
      ]
    },
    {
      "cell_type": "code",
      "execution_count": null,
      "metadata": {
        "id": "adSi5Kf46rlm"
      },
      "outputs": [],
      "source": [
        "dict1 = {'Ten': 10, 'Twenty': 20, 'Thirty': 30}\n",
        "dict2 = {'Thirty': 30, 'Fourty': 40, 'Fifty': 50}"
      ]
    },
    {
      "cell_type": "code",
      "execution_count": null,
      "metadata": {
        "id": "RrUiPTCU6t_P",
        "colab": {
          "base_uri": "https://localhost:8080/",
          "height": 131
        },
        "outputId": "cafe2044-ef33-4c80-93bc-538cdb52698f"
      },
      "outputs": [
        {
          "output_type": "error",
          "ename": "SyntaxError",
          "evalue": "ignored",
          "traceback": [
            "\u001b[0;36m  File \u001b[0;32m\"<ipython-input-4-28bb5955e241>\"\u001b[0;36m, line \u001b[0;32m2\u001b[0m\n\u001b[0;31m    res =\u001b[0m\n\u001b[0m          ^\u001b[0m\n\u001b[0;31mSyntaxError\u001b[0m\u001b[0;31m:\u001b[0m invalid syntax\n"
          ]
        }
      ],
      "source": [
        "def Merge(dict1, dict2):\n",
        "\tres = \n",
        "\treturn res\n",
        "\n"
      ]
    },
    {
      "cell_type": "markdown",
      "metadata": {
        "id": "SNFcOVUt6vUi"
      },
      "source": [
        "Exercise 3: Print the value of key ‘history’ from the below dict\n",
        "\n",
        "> Indented block\n",
        "\n"
      ]
    },
    {
      "cell_type": "code",
      "execution_count": null,
      "metadata": {
        "id": "vrD_vPbo61ZO"
      },
      "outputs": [],
      "source": [
        "sampleDict = {\n",
        "    \"class\": {\n",
        "        \"student\": {\n",
        "            \"name\": \"Mike\",\n",
        "            \"marks\": {\n",
        "                \"physics\": 70,\n",
        "                \"history\": 80\n",
        "            }\n",
        "        }\n",
        "    }\n",
        "}"
      ]
    },
    {
      "cell_type": "code",
      "execution_count": null,
      "metadata": {
        "id": "Wavn2L7l64t_",
        "colab": {
          "base_uri": "https://localhost:8080/"
        },
        "outputId": "43d5c651-21d2-4e27-f399-8ac6c86342ea"
      },
      "outputs": [
        {
          "output_type": "stream",
          "name": "stdout",
          "text": [
            "80\n"
          ]
        }
      ],
      "source": [
        "print(sampleDict['class']['student']['marks']['history'])\n"
      ]
    },
    {
      "cell_type": "markdown",
      "metadata": {
        "id": "uFC9JhPw652V"
      },
      "source": [
        "Exercise 4: Initialize dictionary with default values\n",
        "In Python, we can initialize the keys with the same values."
      ]
    },
    {
      "cell_type": "code",
      "execution_count": null,
      "metadata": {
        "id": "mfRM-Aa068oO"
      },
      "outputs": [],
      "source": [
        "employees = ['Kelly', 'Emma']\n",
        "defaults = {\"designation\": 'Developer', \"salary\": 8000}"
      ]
    },
    {
      "cell_type": "code",
      "execution_count": null,
      "metadata": {
        "id": "wrj_rbQm6_H6",
        "colab": {
          "base_uri": "https://localhost:8080/"
        },
        "outputId": "7030d881-1df4-4909-e45d-a24146b4ab99"
      },
      "outputs": [
        {
          "output_type": "stream",
          "name": "stdout",
          "text": [
            "{'Kelly': {'designation': 'Developer', 'salary': 8000}, 'Emma': {'designation': 'Developer', 'salary': 8000}}\n"
          ]
        }
      ],
      "source": [
        "res = dict.fromkeys(employees,defaults)\n",
        "print(res)\n"
      ]
    },
    {
      "cell_type": "markdown",
      "metadata": {
        "id": "iSKdrtQ96_lF"
      },
      "source": [
        "Exercise 5: Create a dictionary by extracting the keys from a given dictionary"
      ]
    },
    {
      "cell_type": "code",
      "execution_count": null,
      "metadata": {
        "id": "I3WxZk6E7BxS"
      },
      "outputs": [],
      "source": [
        "sample_dict = {\n",
        "    \"name\": \"Kelly\",\n",
        "    \"age\": 25,\n",
        "    \"salary\": 8000,\n",
        "    \"city\": \"New york\"}\n",
        "\n",
        "# Keys to extract\n",
        "keys = [\"name\", \"salary\"]"
      ]
    },
    {
      "cell_type": "code",
      "execution_count": null,
      "metadata": {
        "id": "XZVB_nU07FxW",
        "colab": {
          "base_uri": "https://localhost:8080/"
        },
        "outputId": "020b26c2-d015-4b1d-aca2-6951ec695289"
      },
      "outputs": [
        {
          "output_type": "stream",
          "name": "stdout",
          "text": [
            "{'name': 'Kelly', 'salary': 8000}\n"
          ]
        }
      ],
      "source": [
        "newDict = {i: sample_dict[i] for i in keys}\n",
        "print(newDict)"
      ]
    },
    {
      "cell_type": "markdown",
      "metadata": {
        "id": "vYtjDGIj7JO5"
      },
      "source": [
        "Exercise 6: Delete a list of keys from a dictionary"
      ]
    },
    {
      "cell_type": "code",
      "execution_count": null,
      "metadata": {
        "id": "pVqbBYnO7J2G"
      },
      "outputs": [],
      "source": [
        "sample_dict = {\n",
        "    \"name\": \"Kelly\",\n",
        "    \"age\": 25,\n",
        "    \"salary\": 8000,\n",
        "    \"city\": \"New york\"\n",
        "}\n",
        "\n",
        "# Keys to remove\n",
        "keys = [\"name\", \"salary\"]"
      ]
    },
    {
      "cell_type": "code",
      "execution_count": null,
      "metadata": {
        "id": "Rc4esfIT7NqS",
        "colab": {
          "base_uri": "https://localhost:8080/"
        },
        "outputId": "8293b6dd-d71f-4ecd-b7da-d6f4842c078c"
      },
      "outputs": [
        {
          "output_type": "stream",
          "name": "stdout",
          "text": [
            "{'age': 25, 'city': 'New york'}\n"
          ]
        }
      ],
      "source": [
        "for k in keys:\n",
        "    sample_dict.pop(k)\n",
        "print(sample_dict)\n"
      ]
    },
    {
      "cell_type": "markdown",
      "metadata": {
        "id": "GXeQxf0G7OHv"
      },
      "source": [
        "Exercise 7: Check if a value exists in a dictionary\n",
        "We know how to check if the key exists in a dictionary. Sometimes it is required to check if the given value is present.\n",
        "\n",
        "Write a Python program to check if value 200 exists in the following dictionary."
      ]
    },
    {
      "cell_type": "code",
      "execution_count": null,
      "metadata": {
        "id": "BcxotnGA7SGG"
      },
      "outputs": [],
      "source": [
        "sample_dict = {'a': 100, 'b': 200, 'c': 300}"
      ]
    },
    {
      "cell_type": "code",
      "execution_count": null,
      "metadata": {
        "id": "HEcnYaL-7U3o",
        "colab": {
          "base_uri": "https://localhost:8080/"
        },
        "outputId": "73187521-3a96-48a6-b4e2-8d3d52dad885"
      },
      "outputs": [
        {
          "output_type": "stream",
          "name": "stdout",
          "text": [
            "200 present in a dict\n"
          ]
        }
      ],
      "source": [
        "if 200 in sample_dict.values():\n",
        "    print('200 present in a dict')"
      ]
    },
    {
      "cell_type": "markdown",
      "metadata": {
        "id": "5Lv89w3M7X2O"
      },
      "source": [
        "Exercise 8: Rename key of a dictionary\n",
        "Write a program to rename a key city to a location in the following dictionary."
      ]
    },
    {
      "cell_type": "code",
      "execution_count": null,
      "metadata": {
        "id": "i7eWGBhq7Yit"
      },
      "outputs": [],
      "source": [
        "sample_dict = {\n",
        "  \"name\": \"Kelly\",\n",
        "  \"age\":25,\n",
        "  \"salary\": 8000,\n",
        "  \"city\": \"New york\"\n",
        "}"
      ]
    },
    {
      "cell_type": "code",
      "execution_count": null,
      "metadata": {
        "id": "7DkrqtlD7bEy",
        "colab": {
          "base_uri": "https://localhost:8080/"
        },
        "outputId": "f9636a91-b2b8-423c-d99e-45ffd200487d"
      },
      "outputs": [
        {
          "output_type": "stream",
          "name": "stdout",
          "text": [
            "{'name': 'Kelly', 'age': 25, 'salary': 8000, 'location': 'New york'}\n"
          ]
        }
      ],
      "source": [
        "sample_dict['location'] = sample_dict.pop('city')\n",
        "print(sample_dict)"
      ]
    },
    {
      "cell_type": "markdown",
      "metadata": {
        "id": "bvBAXbjY7fug"
      },
      "source": [
        "## Tuple"
      ]
    },
    {
      "cell_type": "markdown",
      "metadata": {
        "id": "JljYqDA97skm"
      },
      "source": [
        "Exercise 1: Access value 20 from the tuple\n",
        "The given tuple is a nested tuple. write a Python program to print the value 20."
      ]
    },
    {
      "cell_type": "code",
      "execution_count": null,
      "metadata": {
        "id": "w8pmHvWs7h4G"
      },
      "outputs": [],
      "source": [
        "tuple1 = (\"Orange\", [10, 20, 30], (5, 15, 25))"
      ]
    },
    {
      "cell_type": "code",
      "execution_count": null,
      "metadata": {
        "id": "QTuVjulj7woK",
        "colab": {
          "base_uri": "https://localhost:8080/"
        },
        "outputId": "289e9132-c48b-47c7-85a0-73e0e60068eb"
      },
      "outputs": [
        {
          "output_type": "execute_result",
          "data": {
            "text/plain": [
              "20"
            ]
          },
          "metadata": {},
          "execution_count": 34
        }
      ],
      "source": [
        "tuple1[1][1]"
      ]
    },
    {
      "cell_type": "markdown",
      "metadata": {
        "id": "D2PxBsNy7xMQ"
      },
      "source": [
        "Exercise 2: Swap two tuples in Python"
      ]
    },
    {
      "cell_type": "code",
      "execution_count": null,
      "metadata": {
        "id": "8iKoOorB76Dn"
      },
      "outputs": [],
      "source": [
        "tuple1 = (11, 22)\n",
        "tuple2 = (99, 88)"
      ]
    },
    {
      "cell_type": "code",
      "execution_count": null,
      "metadata": {
        "id": "ViTRzhMx78Pa",
        "colab": {
          "base_uri": "https://localhost:8080/"
        },
        "outputId": "ea726459-8087-47e2-8ce3-37a2f7e1ae78"
      },
      "outputs": [
        {
          "output_type": "stream",
          "name": "stdout",
          "text": [
            "(99, 88)\n",
            "(11, 22)\n"
          ]
        }
      ],
      "source": [
        "tuple1, tuple2 = tuple2, tuple1\n",
        "print(tuple1)\n",
        "print(tuple2)"
      ]
    },
    {
      "cell_type": "markdown",
      "metadata": {
        "id": "LSwHF9Oh786r"
      },
      "source": [
        "Exercise 3: Copy specific elements from one tuple to a new tuple\n",
        "Write a program to copy elements 44 and 55 from the following tuple into a new tuple."
      ]
    },
    {
      "cell_type": "code",
      "execution_count": null,
      "metadata": {
        "id": "hRmTHbvx8AnZ"
      },
      "outputs": [],
      "source": [
        "tuple1 = (11, 22, 33, 44, 55, 66)"
      ]
    },
    {
      "cell_type": "code",
      "execution_count": null,
      "metadata": {
        "id": "ZCAGPgpz8Hsx",
        "colab": {
          "base_uri": "https://localhost:8080/"
        },
        "outputId": "9136bc6e-96c8-4fcf-eca9-9abb30d8d681"
      },
      "outputs": [
        {
          "output_type": "stream",
          "name": "stdout",
          "text": [
            "(44, 55)\n"
          ]
        }
      ],
      "source": [
        "tuple2 = tuple1[3:5]\n",
        "print(tuple2)\n"
      ]
    },
    {
      "cell_type": "markdown",
      "metadata": {
        "id": "wj-oMmbl8IjN"
      },
      "source": [
        "Exercise 4: Modify the tuple\n",
        "Given is a nested tuple. Write a program to modify the first item (22) of a list inside a following tuple to 222\n",
        "\n",
        "`Expected output -> tuple1: (11, [222, 33], 44, 55)`"
      ]
    },
    {
      "cell_type": "code",
      "execution_count": null,
      "metadata": {
        "id": "B6m5OboA8MLV"
      },
      "outputs": [],
      "source": [
        "tuple1 = (11, [22, 33], 44, 55)"
      ]
    },
    {
      "cell_type": "code",
      "execution_count": null,
      "metadata": {
        "id": "yijnD-ng8XlG",
        "colab": {
          "base_uri": "https://localhost:8080/"
        },
        "outputId": "ff78570d-1acc-4964-a1ff-7075f6253112"
      },
      "outputs": [
        {
          "output_type": "stream",
          "name": "stdout",
          "text": [
            "(11, [222, 33], 44, 55)\n"
          ]
        }
      ],
      "source": [
        "tuple1[1][0] = 222\n",
        "print(tuple1)"
      ]
    },
    {
      "cell_type": "markdown",
      "metadata": {
        "id": "Kj5eoKIn8YHY"
      },
      "source": [
        "Exercise 5: Sort a tuple of tuples by 2nd item"
      ]
    },
    {
      "cell_type": "code",
      "execution_count": null,
      "metadata": {
        "id": "4gwZH2Ou8czd"
      },
      "outputs": [],
      "source": [
        "tuple1 = (('a', 23),('b', 37),('c', 11), ('d',29))"
      ]
    },
    {
      "cell_type": "code",
      "execution_count": null,
      "metadata": {
        "id": "zH57JpEq8e-9",
        "colab": {
          "base_uri": "https://localhost:8080/"
        },
        "outputId": "0dd72ab2-aa3f-4633-aa12-058c70f8e525"
      },
      "outputs": [
        {
          "output_type": "stream",
          "name": "stdout",
          "text": [
            "(('c', 11), ('a', 23), ('d', 29), ('b', 37))\n"
          ]
        }
      ],
      "source": [
        "tuple1 = tuple(sorted(list(tuple1), key=lambda x: x[1]))\n",
        "print(tuple1)"
      ]
    },
    {
      "cell_type": "markdown",
      "metadata": {
        "id": "dn7hKPCx8fjP"
      },
      "source": [
        "Exercise 6: Counts the number of occurrences of item 50 from a tuple"
      ]
    },
    {
      "cell_type": "code",
      "execution_count": null,
      "metadata": {
        "id": "MTD2rDA58inv"
      },
      "outputs": [],
      "source": [
        "tuple1 = (50, 10, 60, 70, 50)"
      ]
    },
    {
      "cell_type": "code",
      "execution_count": null,
      "metadata": {
        "id": "Ve30-0Vy8k-h",
        "colab": {
          "base_uri": "https://localhost:8080/"
        },
        "outputId": "0bf6d3de-2d4d-45bc-9b1a-b331a428897c"
      },
      "outputs": [
        {
          "output_type": "execute_result",
          "data": {
            "text/plain": [
              "2"
            ]
          },
          "metadata": {},
          "execution_count": 55
        }
      ],
      "source": [
        "tuple1.count(50)"
      ]
    },
    {
      "cell_type": "markdown",
      "metadata": {
        "id": "zNAz3c0v8rFi"
      },
      "source": [
        "Exercise 7: Check if all items in the tuple are the same"
      ]
    },
    {
      "cell_type": "code",
      "execution_count": null,
      "metadata": {
        "id": "4UudiTGU8smV"
      },
      "outputs": [],
      "source": [
        "tuple1 = (45, 45, 45, 45)"
      ]
    },
    {
      "cell_type": "code",
      "execution_count": null,
      "metadata": {
        "id": "JdZA_fPi8u6B",
        "colab": {
          "base_uri": "https://localhost:8080/"
        },
        "outputId": "1ec634a7-343e-4b0e-9416-66467ff1c840"
      },
      "outputs": [
        {
          "output_type": "stream",
          "name": "stdout",
          "text": [
            "True\n"
          ]
        }
      ],
      "source": [
        "def check(tuple):\n",
        "  return all(i==tuple[0] for i in tuple)\n",
        "print(check(tuple1))\n"
      ]
    },
    {
      "cell_type": "markdown",
      "metadata": {
        "id": "zwkijfhx82j-"
      },
      "source": [
        "## Set"
      ]
    },
    {
      "cell_type": "markdown",
      "metadata": {
        "id": "411zSMRh84dX"
      },
      "source": [
        "Exercise 1: Add a list of elements to a set\n",
        "Given a Python list, Write a program to add all its elements into a given set."
      ]
    },
    {
      "cell_type": "code",
      "execution_count": null,
      "metadata": {
        "id": "G0L5-EMf83nx"
      },
      "outputs": [],
      "source": [
        "sample_set = {\"Yellow\", \"Orange\", \"Black\"}\n",
        "sample_list = [\"Blue\", \"Green\", \"Red\"]"
      ]
    },
    {
      "cell_type": "code",
      "execution_count": null,
      "metadata": {
        "id": "Oy_cxqlw87gl",
        "colab": {
          "base_uri": "https://localhost:8080/"
        },
        "outputId": "8131da40-894f-4a9e-f100-9204103589ab"
      },
      "outputs": [
        {
          "output_type": "stream",
          "name": "stdout",
          "text": [
            "{'Green', 'Orange', 'Yellow', 'Black', 'Blue', 'Red'}\n"
          ]
        }
      ],
      "source": [
        "sample_set.update(sample_list)\n",
        "print(sample_set)"
      ]
    },
    {
      "cell_type": "markdown",
      "metadata": {
        "id": "SyRWeE0a88JF"
      },
      "source": [
        "Exercise 2: Return a new set of identical items from two sets"
      ]
    },
    {
      "cell_type": "code",
      "execution_count": null,
      "metadata": {
        "id": "org2h_Om8_ct"
      },
      "outputs": [],
      "source": [
        "set1 = {10, 20, 30, 40, 50}\n",
        "set2 = {30, 40, 50, 60, 70}"
      ]
    },
    {
      "cell_type": "code",
      "execution_count": null,
      "metadata": {
        "id": "Bfo1Bf0B9B9A",
        "colab": {
          "base_uri": "https://localhost:8080/"
        },
        "outputId": "0b6b8f1d-f039-4491-cb45-3948a41daffa"
      },
      "outputs": [
        {
          "output_type": "stream",
          "name": "stdout",
          "text": [
            "{40, 50, 30}\n"
          ]
        }
      ],
      "source": [
        "print(set1.intersection(set2))"
      ]
    },
    {
      "cell_type": "markdown",
      "metadata": {
        "id": "dKYap3_i9CvA"
      },
      "source": [
        "Exercise 3: Update the first set with items that don’t exist in the second set\n",
        "Given two Python sets, write a Python program to update the first set with items that exist only in the first set and not in the second set."
      ]
    },
    {
      "cell_type": "code",
      "execution_count": null,
      "metadata": {
        "id": "yN54hvav9IJ9"
      },
      "outputs": [],
      "source": [
        "set1 = {10, 20, 30}\n",
        "set2 = {20, 40, 50}"
      ]
    },
    {
      "cell_type": "code",
      "execution_count": null,
      "metadata": {
        "id": "9AtfUikt9Ke9",
        "colab": {
          "base_uri": "https://localhost:8080/"
        },
        "outputId": "ad167ad5-6a60-43e8-916d-e0b664a5a859"
      },
      "outputs": [
        {
          "output_type": "stream",
          "name": "stdout",
          "text": [
            "{10, 30}\n"
          ]
        }
      ],
      "source": [
        "set1.difference_update(set2)\n",
        "print(set1)"
      ]
    },
    {
      "cell_type": "markdown",
      "metadata": {
        "id": "r0R8m59B9LOC"
      },
      "source": [
        "Exercise 4: Return a set of elements present in Set A or B, but not both"
      ]
    },
    {
      "cell_type": "code",
      "execution_count": null,
      "metadata": {
        "id": "w7cE0joL9Piw"
      },
      "outputs": [],
      "source": [
        "set1 = {10, 20, 30, 40, 50}\n",
        "set2 = {30, 40, 50, 60, 70}"
      ]
    },
    {
      "cell_type": "code",
      "execution_count": null,
      "metadata": {
        "id": "h39zIe0F9STp",
        "colab": {
          "base_uri": "https://localhost:8080/"
        },
        "outputId": "ac76775b-1db1-4132-abd7-d99c8ce24983"
      },
      "outputs": [
        {
          "output_type": "stream",
          "name": "stdout",
          "text": [
            "{20, 70, 10, 60}\n"
          ]
        }
      ],
      "source": [
        "print(set1.symmetric_difference(set2))\n"
      ]
    },
    {
      "cell_type": "markdown",
      "metadata": {
        "id": "cT6XKgs99S36"
      },
      "source": [
        "Exercise 5: Update set1 by adding items from set2, except common items"
      ]
    },
    {
      "cell_type": "code",
      "execution_count": null,
      "metadata": {
        "id": "3O19VT7y9Wsk"
      },
      "outputs": [],
      "source": [
        "set1 = {10, 20, 30, 40, 50}\n",
        "set2 = {30, 40, 50, 60, 70}"
      ]
    },
    {
      "cell_type": "code",
      "execution_count": null,
      "metadata": {
        "id": "0MD44GaS9ZDA",
        "colab": {
          "base_uri": "https://localhost:8080/"
        },
        "outputId": "158cd71c-25ef-4bed-cb23-4efd38621b55"
      },
      "outputs": [
        {
          "output_type": "stream",
          "name": "stdout",
          "text": [
            "{70, 40, 10, 50, 20, 60, 30}\n"
          ]
        }
      ],
      "source": [
        "set1.symmetric_difference_update(set2)\n",
        "print(set1)"
      ]
    },
    {
      "cell_type": "markdown",
      "metadata": {
        "id": "w1edQPAp9Zml"
      },
      "source": [
        "Exercise 6: Remove items from set1 that are not common to both set1 and set2"
      ]
    },
    {
      "cell_type": "code",
      "execution_count": null,
      "metadata": {
        "id": "b02bi0Kr9dFo"
      },
      "outputs": [],
      "source": [
        "set1 = {10, 20, 30, 40, 50}\n",
        "set2 = {30, 40, 50, 60, 70}"
      ]
    },
    {
      "cell_type": "code",
      "execution_count": null,
      "metadata": {
        "id": "EmS-QJAC9fpY",
        "colab": {
          "base_uri": "https://localhost:8080/"
        },
        "outputId": "443185ca-f90c-41fa-a641-6df988722d45"
      },
      "outputs": [
        {
          "output_type": "stream",
          "name": "stdout",
          "text": [
            "{40, 50, 30}\n"
          ]
        }
      ],
      "source": [
        "set1.intersection_update(set2)\n",
        "print(set1)"
      ]
    },
    {
      "cell_type": "code",
      "source": [
        ""
      ],
      "metadata": {
        "id": "SLIbR_EszE1k"
      },
      "execution_count": null,
      "outputs": []
    }
  ],
  "metadata": {
    "colab": {
      "collapsed_sections": [],
      "name": "Practice_Data_Structures.ipynb",
      "provenance": []
    },
    "kernelspec": {
      "display_name": "Python 3",
      "name": "python3"
    },
    "language_info": {
      "name": "python"
    }
  },
  "nbformat": 4,
  "nbformat_minor": 0
}